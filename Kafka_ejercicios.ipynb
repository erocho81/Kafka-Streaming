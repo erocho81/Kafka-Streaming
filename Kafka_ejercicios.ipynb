{
 "cells": [
  {
   "cell_type": "markdown",
   "metadata": {},
   "source": [
    "![Kafka Logo](https://kafka.apache.org/images/logo.png)\n",
    "\n",
    "# Ejercicios con Kafka\n",
    "\n",
    "Este laboratorio usara las tecnologias descritas en los materiales del curso sobre Kafka. Haremos ejecicios para la creación de topics, productores y consumidores.\n",
    "\n",
    "## Durante esta PEC vamos a cubrir:\n",
    "\n",
    "* *Ejercicio 1:* Creación de un topic (1 PUNTO)\n",
    "* *Ejercicio 2:* Hola mundo en Kafka: creación de un productor que escriba en el topic previamente creado y de un consumidor que escriba y muestre los mensajes (1,5 PUNTOS)\n",
    "* *Ejercicio 3:* Primeros pasos con las particiones. Crearemos un productor que envie los números pares a una partición y los impares a otra y despues los mostraremos con un consumidor. (1,5 PUNTOS)\n",
    "* *Ejercicio 4:* Entendiendo los offsets (2 PUNTOS)\n",
    "\n",
    "\n",
    "> Como referencia a todos los detalles de los metodos que se usan en esta practica se puede consultar, además de la documentación de la asignatura, la documentación oficial de kafka:\n",
    "> * [Kafka Documentation](https://kafka.apache.org/documentation/)\n"
   ]
  },
  {
   "cell_type": "markdown",
   "metadata": {},
   "source": [
    "## Ejercicio 1: Creación de un topic de Kafka (1 PUNTO)\n",
    "\n",
    "Para empezar, vamos a crear un topic, que será el que utilizaremos en los siguientes ejercicios. El topic tiene que tener las siguientes caracteristicas. \n",
    "\n",
    "- Nombre: El usuario de la uoc del alumno seguido de la palabla Topic (por ejemplo: garguelloTopic)\n",
    "- El topic debe tener una sola partición.\n",
    "- El factor de replicación tiene que ser 1\n",
    "\n",
    "Debereis rellenar los huecos indicados con FILL IN\n"
   ]
  },
  {
   "cell_type": "code",
   "execution_count": null,
   "metadata": {},
   "outputs": [],
   "source": [
    "!kafka-topics <FILL IN> --zookeeper localhost:2181/kafka <FILL IN>"
   ]
  },
  {
   "cell_type": "markdown",
   "metadata": {},
   "source": [
    "Al ejecutar el comando, al final del log, debemos ver que se ha creado el topic, pero vamos a comprobarlo:"
   ]
  },
  {
   "cell_type": "code",
   "execution_count": null,
   "metadata": {},
   "outputs": [],
   "source": [
    "!kafka-topics <FILL IN>"
   ]
  },
  {
   "cell_type": "markdown",
   "metadata": {},
   "source": [
    "## Ejercicio 2: Hola mundo en Kafka. (1,5 PUNTOS)\n",
    "\n",
    "En este ejercicio vamos a crear un productor que envie al topic generado previamente un array generado a partir de valores aleatorios de una distribución normal con media 0 y varianza 1.\n",
    "\n",
    "Posteriormente crearemos un consumidor que lea el topic y haremos un histograma en el que el que pintaremos los valores recibidos.\n",
    "\n"
   ]
  },
  {
   "cell_type": "code",
   "execution_count": null,
   "metadata": {},
   "outputs": [],
   "source": [
    "from kafka import KafkaProducer\n",
    "import numpy as np\n",
    "\n",
    "#Definimos el productor\n",
    "producer = KafkaProducer(bootstrap_servers='Cloudera02:9092')\n",
    "\n",
    "#Definimos un array con valores aleatorios de una distribución normal 0,1. Mirad la función np.random.normal\n",
    "x = <FILL IN>\n",
    "\n",
    "#generamos un bucle que envie los elementos de array anterior uno a uno a nuestro topic\n",
    "for i in range (1, 1000): \n",
    "    <FILL IN>"
   ]
  },
  {
   "cell_type": "markdown",
   "metadata": {},
   "source": [
    "Debemos crear un consumidor que lea el valor del mensaje que hemos producido anteiormente y lo pinte en una grafica, pintaremos un histograma de los datos de la distribución normal que hemos generado. El consumidor, si no lo controlamos, se queda escuchando \"para siempre\" a la espera de nuevos mensajes, para que esto no suceda utilizamos el parametro consumer_timeout_ms"
   ]
  },
  {
   "cell_type": "code",
   "execution_count": null,
   "metadata": {},
   "outputs": [],
   "source": [
    "%matplotlib inline\n",
    "from kafka import KafkaConsumer\n",
    "import time\n",
    "import matplotlib.pyplot as plt\n",
    "import numpy as np\n",
    "\n",
    "#Creamos la figura para despues pintar el scatter plot\n",
    "fig, ax1 = plt.subplots(figsize=(20,10))\n",
    "\n",
    "#Definimos una lista vacia en la que luego almacenaremos los valores\n",
    "data = []\n",
    "#Definimos el consumidor\n",
    "consumer = KafkaConsumer(<FILL IN>,bootstrap_servers='Cloudera02:9092',auto_offset_reset='smallest',consumer_timeout_ms = 10000)\n",
    "\n",
    "#Consumimos los mensajes y los almacenamos en una lista\n",
    "for message in consumer:\n",
    "        <FILL IN>\n",
    "        \n",
    "# Pintamos el histograma\n",
    "<FILL IN>;\n"
   ]
  },
  {
   "cell_type": "markdown",
   "metadata": {},
   "source": [
    "## Ejercicio 3: Aprendiendo a usar particiones (1.5 PUNTOS)"
   ]
  },
  {
   "cell_type": "markdown",
   "metadata": {},
   "source": [
    "En este ejercicio vamos a trabajar con las particiones de un topic. La primera parte del ejercicio son dos preguntas teoricas sobre las particiones"
   ]
  },
  {
   "cell_type": "markdown",
   "metadata": {},
   "source": [
    "**¿Cual es la diferencia entre partición y factor de replicación?**"
   ]
  },
  {
   "cell_type": "markdown",
   "metadata": {},
   "source": [
    "\n",
    "**-- FILL IN --**"
   ]
  },
  {
   "cell_type": "markdown",
   "metadata": {},
   "source": [
    "**¿Cuál es el principal objetivo del particionamiento de los topics?**"
   ]
  },
  {
   "cell_type": "markdown",
   "metadata": {},
   "source": [
    "\n",
    "**-- FILL IN --**"
   ]
  },
  {
   "cell_type": "markdown",
   "metadata": {},
   "source": [
    "En este ejercicio vamos a necesitar un topic particionado, si recordais en el primer ejercicio creamos un topic con una unica partición, por lo que ahora vamos a crear un topic que tener las siguientes caracteristicas. \n",
    "\n",
    "- Nombre: El usuario de la uoc del alumno seguido de la palabla Topic (por ejemplo: garguelloTopic). Antes tendreis que borrarlo, ya que lo hemos creado en los ejercicios anteriores con otra configuración\n",
    "- El topic debe tener 2 particiones\n",
    "- El factor de replicación tiene que ser 1\n",
    "\n",
    "Debereis rellenar los huecos indicados con FILL IN"
   ]
  },
  {
   "cell_type": "code",
   "execution_count": null,
   "metadata": {},
   "outputs": [],
   "source": [
    "#Borramos el topic creado en el ejercicio 1\n",
    "!kafka-topics --zookeeper localhost:2181 <FILL IN> --topic <FILL IN>\n"
   ]
  },
  {
   "cell_type": "code",
   "execution_count": null,
   "metadata": {},
   "outputs": [],
   "source": [
    "#Creamos otra vez el tocis con las especificaciones del enunciado\n",
    "!kafka-topics <FILL IN> --zookeeper localhost:2181/kafka <FILL IN>"
   ]
  },
  {
   "cell_type": "markdown",
   "metadata": {},
   "source": [
    "Vamos a verificar que el topic se ha creado correctamente, para ello vamos a utilizar el parametro --describe"
   ]
  },
  {
   "cell_type": "code",
   "execution_count": null,
   "metadata": {},
   "outputs": [],
   "source": [
    "!kafka-topics <FILL IN>"
   ]
  },
  {
   "cell_type": "markdown",
   "metadata": {},
   "source": [
    "Si la creación se ha realizado correctamente, veremos nuestro topic con dos particiones, la 0 y la 1.\n",
    "\n",
    "Ahora vamos a crear un productor que a partir de la lista de los 100 primeros numeros naturales, envie los pares a la partición 0 y los impares a la 1."
   ]
  },
  {
   "cell_type": "code",
   "execution_count": null,
   "metadata": {},
   "outputs": [],
   "source": [
    "from kafka import KafkaProducer\n",
    "import numpy as np\n",
    "\n",
    "#Definimos el productor\n",
    "producer = KafkaProducer(bootstrap_servers='Cloudera02:9092')\n",
    "\n",
    "#bucle que enviará los numeros pares a la partición 0 y los impares a la 1\n",
    "for i in range (1, 100): \n",
    "    <FILL IN>\n"
   ]
  },
  {
   "cell_type": "markdown",
   "metadata": {},
   "source": [
    "Por último creamos un consumidor que consuma estos mensajes y los muestre con la funcion \"print\". El consumidor, si no lo controlamos, se queda escuchando \"para siempre\" a la espera de nuevos mensajes, por lo tanto para evitarlo utilizad el parametro consumer_timeout_ms"
   ]
  },
  {
   "cell_type": "code",
   "execution_count": null,
   "metadata": {},
   "outputs": [],
   "source": [
    "from kafka import KafkaConsumer\n",
    "\n",
    "#Definimos el consumidor, sin el parametro auto_offset_reset='smallest' sólo leeria los nuevos mensajes en el topic no todos los que se crearon.\n",
    "consumer = KafkaConsumer(<FILL IN>,bootstrap_servers='Cloudera02:9092',auto_offset_reset='smallest', consumer_timeout_ms =10000)\n",
    "\n",
    "#Bucle para imprimir en pantalla todos los mensajes, este bucle al minuto acabará\n",
    "for message in consumer:\n",
    "    <FILL IN>"
   ]
  },
  {
   "cell_type": "markdown",
   "metadata": {},
   "source": [
    "¿Los mensajes han llegado correctamente a sus particiones? ¿Qué significa la información que muestra el mensaje?"
   ]
  },
  {
   "cell_type": "markdown",
   "metadata": {},
   "source": [
    "\n",
    "**-- FILL IN --**"
   ]
  },
  {
   "cell_type": "markdown",
   "metadata": {},
   "source": [
    "## Ejercicio 4: Entendiendo los offsets (2 PUNTOS)"
   ]
  },
  {
   "cell_type": "markdown",
   "metadata": {},
   "source": [
    "En este ejercicio vamos a utilizar el topic creado en el ejercicio anterior para trabajar con los offsets\n",
    "\n",
    "- Mostrad el offset de las dos particiones del topic creado en el ejercicio anterior (por ejemplo: garguelloTopic)\n",
    "- Volved a ejecutar el productor del ejercicio anterior ¿qué ocurre con los offsets?\n",
    "- Cread un consumidor que empiece a leer a partir de un offset especifico (por ejemplo a partir del 30). \n",
    "- Cread un consumidor que empiece a leer a partir de un offset especifico (por ejemplo a partir del 30), pero sólo de una de las dos particiones (0/1)\n",
    "\n",
    "Debereis rellenar los huecos indicados con FILL IN"
   ]
  },
  {
   "cell_type": "markdown",
   "metadata": {},
   "source": [
    "Mostrad el offset de las dos particiones de topic creado en el ejericicio anterior"
   ]
  },
  {
   "cell_type": "code",
   "execution_count": null,
   "metadata": {},
   "outputs": [],
   "source": [
    "from kafka import SimpleClient\n",
    "from kafka.protocol.offset import OffsetRequest, OffsetResetStrategy\n",
    "from kafka.common import OffsetRequestPayload\n",
    "\n",
    "client = SimpleClient('Cloudera02:9092')\n",
    "\n",
    "<FILL IN>"
   ]
  },
  {
   "cell_type": "markdown",
   "metadata": {},
   "source": [
    "Ejecutad otra vez el **productor** del ejercicio anterior y volved a mirad los offsets. ¿Qué ha pasado con ellos? ¿Han cambiado?"
   ]
  },
  {
   "cell_type": "markdown",
   "metadata": {},
   "source": [
    "\n",
    "**-- FILL IN --**"
   ]
  },
  {
   "cell_type": "markdown",
   "metadata": {},
   "source": [
    "Cread un consumidor que empiece a leer a partir de un offset especifico (por ejemplo a partir del 30). "
   ]
  },
  {
   "cell_type": "code",
   "execution_count": null,
   "metadata": {},
   "outputs": [],
   "source": [
    "!kafka-console-consumer --topic <FILL IN>"
   ]
  }
 ],
 "metadata": {
  "kernelspec": {
   "display_name": "Python 3",
   "language": "python",
   "name": "python3"
  },
  "language_info": {
   "codemirror_mode": {
    "name": "ipython",
    "version": 3
   },
   "file_extension": ".py",
   "mimetype": "text/x-python",
   "name": "python",
   "nbconvert_exporter": "python",
   "pygments_lexer": "ipython3",
   "version": "3.5.2"
  }
 },
 "nbformat": 4,
 "nbformat_minor": 4
}
